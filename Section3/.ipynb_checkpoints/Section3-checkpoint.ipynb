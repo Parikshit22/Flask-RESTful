{
 "cells": [
  {
   "cell_type": "code",
   "execution_count": 28,
   "metadata": {},
   "outputs": [],
   "source": [
    "from flask import Flask,jsonify,request,render_template\n",
    "\n",
    "app = Flask(__name__)\n",
    "\n",
    "@app.route('/')\n",
    "def home():\n",
    "    return render_template(\"index.html\")\n",
    "# app.run()"
   ]
  },
  {
   "cell_type": "code",
   "execution_count": 29,
   "metadata": {},
   "outputs": [],
   "source": [
    "stores = [\n",
    "    {\n",
    "    \"name\":\"My Camy Store\",\n",
    "    \"items\":[\n",
    "        {\n",
    "            \"name\":\"handbag\",\n",
    "            \"price\":200\n",
    "        },\n",
    "        {\n",
    "            \"name\":\"bag\",\n",
    "            \"price\":100\n",
    "        }\n",
    "    ]\n",
    "    }\n",
    "]\n",
    "\n",
    "\n",
    "@app.route('/store',methods = ['POST'])\n",
    "def build_store():\n",
    "    request_data = request.get_json()\n",
    "    new_store = {\n",
    "        \"name\": request_data[\"name\"],\n",
    "        \"items\":[]\n",
    "    }\n",
    "    stores.append(new_store)\n",
    "    return jsonify(new_store)\n",
    "    \n",
    "\n",
    "@app.route(\"/store/<string:name>\")\n",
    "def get_store_details(name):\n",
    "    for i in stores:\n",
    "        if(i[\"name\"]==name):\n",
    "            return jsonify(i)\n",
    "    return jsonify({\"message\":\"store not found\"})\n",
    "\n",
    "@app.route(\"/store\")\n",
    "def get_store():\n",
    "    return jsonify({\"stores\":stores})\n",
    "\n",
    "@app.route(\"/store/<string:name>/item\",methods=[\"POST\"])\n",
    "def create_store_item(name):\n",
    "    request_data = request.get_json()\n",
    "    for i in stores:\n",
    "        if(i[\"name\"]==name):\n",
    "            new_item = {\n",
    "                \"name\":request_data[\"name\"],\n",
    "                \"price\":request_data[\"price\"]\n",
    "            }\n",
    "            i[\"items\"].append(new_item)\n",
    "            return jsonify(new_item)\n",
    "    return jsonify({\"message\":\"store name don't exist\"})\n",
    "\n",
    "@app.route(\"/store/<string:name>/item\")\n",
    "def item(name):\n",
    "    for i in stores:\n",
    "        if(i[\"name\"]==name):\n",
    "            return jsonify({\"item\":i[\"items\"]})\n",
    "    return jsonify({\"message\":\"some error found\"})\n",
    "\n",
    "@app.route(\"/store/<string:name>/item/<string:item>\")\n",
    "def get_item_price(name,item):\n",
    "    for i in stores:\n",
    "        if(i[\"name\"]==name):\n",
    "            for j in i[\"items\"]:\n",
    "                if j[\"name\"]==item:\n",
    "                    return jsonify(j)\n",
    "            return jsonify({\"message\":\"item not found\"})\n",
    "    return jsonify({\"message\":\"store not found\"})"
   ]
  },
  {
   "cell_type": "code",
   "execution_count": 30,
   "metadata": {},
   "outputs": [
    {
     "name": "stdout",
     "output_type": "stream",
     "text": [
      " * Serving Flask app \"__main__\" (lazy loading)\n",
      " * Environment: production\n",
      "   WARNING: Do not use the development server in a production environment.\n",
      "   Use a production WSGI server instead.\n",
      " * Debug mode: off\n"
     ]
    },
    {
     "name": "stderr",
     "output_type": "stream",
     "text": [
      " * Running on http://127.0.0.1:5000/ (Press CTRL+C to quit)\n",
      "127.0.0.1 - - [20/Jun/2020 04:43:28] \"\u001b[37mGET / HTTP/1.1\u001b[0m\" 200 -\n"
     ]
    }
   ],
   "source": [
    "app.run()"
   ]
  },
  {
   "cell_type": "code",
   "execution_count": null,
   "metadata": {},
   "outputs": [],
   "source": [
    "!python app.py"
   ]
  },
  {
   "cell_type": "code",
   "execution_count": null,
   "metadata": {},
   "outputs": [],
   "source": []
  }
 ],
 "metadata": {
  "kernelspec": {
   "display_name": "Python 3",
   "language": "python",
   "name": "python3"
  },
  "language_info": {
   "codemirror_mode": {
    "name": "ipython",
    "version": 3
   },
   "file_extension": ".py",
   "mimetype": "text/x-python",
   "name": "python",
   "nbconvert_exporter": "python",
   "pygments_lexer": "ipython3",
   "version": "3.6.8"
  }
 },
 "nbformat": 4,
 "nbformat_minor": 2
}
