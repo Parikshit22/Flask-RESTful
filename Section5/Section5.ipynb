{
 "cells": [
  {
   "cell_type": "code",
   "execution_count": 7,
   "metadata": {},
   "outputs": [
    {
     "name": "stdout",
     "output_type": "stream",
     "text": [
      " * Serving Flask app \"__main__\" (lazy loading)\n",
      " * Environment: production\n",
      "   WARNING: Do not use the development server in a production environment.\n",
      "   Use a production WSGI server instead.\n",
      " * Debug mode: off\n"
     ]
    },
    {
     "name": "stderr",
     "output_type": "stream",
     "text": [
      " * Running on http://127.0.0.1:1100/ (Press CTRL+C to quit)\n",
      "127.0.0.1 - - [22/Jun/2020 09:11:16] \"\u001b[37mGET /items HTTP/1.1\u001b[0m\" 200 -\n"
     ]
    }
   ],
   "source": [
    "from flask import Flask,request\n",
    "from flask_restful import Resource, Api\n",
    "from flask_jwt import JWT,jwt_required\n",
    "from security import authenticate,identity\n",
    "\n",
    "app = Flask(__name__)\n",
    "api = Api(app)\n",
    "app.secret_key = 'jose'\n",
    "jwt = JWT(app,authenticate,identity) \n",
    "\n",
    "items = [\n",
    "    {\n",
    "        \"name\":\"bag\",\n",
    "        \"price\":24\n",
    "    }\n",
    "]\n",
    "\n",
    "class Item(Resource):\n",
    "    @jwt_required()\n",
    "    def get(self,name):\n",
    "        data=next(filter(lambda x: x[\"name\"]==name,items),None)\n",
    "        \n",
    "        return data,200 if data is not None else 404\n",
    "    def post(self,name):\n",
    "        if next(filter(lambda x: x[\"name\"]==name,items),None):\n",
    "            return {\"message\":f\"The item with name {name} alredy exists\"},400\n",
    "        item = {\"name\":name,\"price\":54}\n",
    "        items.append(item)\n",
    "        return item,201\n",
    "    def delete(self,name):\n",
    "        global items\n",
    "        items = list(filter(lambda x: x['name'] != name,items))\n",
    "        return {'message':\"item deleted\"}\n",
    "    \n",
    "class ItemList(Resource):\n",
    "    \n",
    "    def get(self):\n",
    "        return {\"item\":items}\n",
    "    def post(self):\n",
    "        data = request.get_json(force = True)\n",
    "        item = {\"name\":data[\"name\"],\"price\":data[\"price\"]}\n",
    "        items.append(item)\n",
    "        return item\n",
    "    \n",
    "api.add_resource(Item,\"/item/<string:name>\")\n",
    "api.add_resource(ItemList,\"/items\")\n",
    "\n",
    "app.run(port=1100)"
   ]
  },
  {
   "cell_type": "code",
   "execution_count": null,
   "metadata": {},
   "outputs": [],
   "source": []
  },
  {
   "cell_type": "code",
   "execution_count": null,
   "metadata": {},
   "outputs": [],
   "source": []
  }
 ],
 "metadata": {
  "kernelspec": {
   "display_name": "Python 3",
   "language": "python",
   "name": "python3"
  },
  "language_info": {
   "codemirror_mode": {
    "name": "ipython",
    "version": 3
   },
   "file_extension": ".py",
   "mimetype": "text/x-python",
   "name": "python",
   "nbconvert_exporter": "python",
   "pygments_lexer": "ipython3",
   "version": "3.6.8"
  }
 },
 "nbformat": 4,
 "nbformat_minor": 2
}
